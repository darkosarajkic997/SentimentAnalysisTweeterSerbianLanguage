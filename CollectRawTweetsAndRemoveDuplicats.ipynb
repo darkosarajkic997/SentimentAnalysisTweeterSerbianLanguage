{
 "metadata": {
  "language_info": {
   "codemirror_mode": {
    "name": "ipython",
    "version": 3
   },
   "file_extension": ".py",
   "mimetype": "text/x-python",
   "name": "python",
   "nbconvert_exporter": "python",
   "pygments_lexer": "ipython3",
   "version": "3.8.1-final"
  },
  "orig_nbformat": 2,
  "kernelspec": {
   "name": "Python 3.8.1 64-bit",
   "display_name": "Python 3.8.1 64-bit",
   "metadata": {
    "interpreter": {
     "hash": "1e3b93fe7ff4eefec2af1a27ca518404a0f894a878f1a79cd53d09793530307f"
    }
   }
  }
 },
 "nbformat": 4,
 "nbformat_minor": 2,
 "cells": [
  {
   "cell_type": "markdown",
   "metadata": {},
   "source": [
    "# Import"
   ]
  },
  {
   "cell_type": "code",
   "execution_count": 1,
   "metadata": {},
   "outputs": [],
   "source": [
    "import pandas as pd\n",
    "from pathlib import Path"
   ]
  },
  {
   "cell_type": "markdown",
   "metadata": {},
   "source": [
    "# Concatenate pickled files"
   ]
  },
  {
   "cell_type": "code",
   "execution_count": 2,
   "metadata": {
    "tags": []
   },
   "outputs": [],
   "source": [
    "tweetsDF=pd.DataFrame()\n",
    "for i in range(0,50):\n",
    "    file = Path('PickleTweets\\\\'+'TweetsWithTextPickle'+str(i)+'.pkl')\n",
    "    if file.exists():\n",
    "        new_tweets=pd.read_pickle('PickleTweets\\\\'+'TweetsWithTextPickle'+str(i)+'.pkl')\n",
    "        tweetsDF=pd.concat([tweetsDF,new_tweets])"
   ]
  },
  {
   "cell_type": "code",
   "execution_count": 3,
   "metadata": {},
   "outputs": [
    {
     "output_type": "execute_result",
     "data": {
      "text/plain": "    HandLabel                                               Text\n0     Neutral    @Jovanana koima sta da im dozvoli...budalastine\n1    Negative                       U ovom busu svi nešto kašlju\n2    Positive  Zašto je važno da uvek imate bočicu vode sa so...\n3    Positive  51. Međunarodni sajam nameštaja u Beogradu htt...\n4    Positive                          @pticica212 hvala Vama :)\n..        ...                                                ...\n891  Negative  Na koji konto u aktivi vlada Srbije stavlja po...\n892  Negative  RT @DaliborStojicic: Jel ima neko iz EPS-a na ...\n896  Negative  RT @SasaRadulovich: Na javnom servisu ide prvo...\n897  Negative  imala sam neki trip da su mi roditelji čitali ...\n898   Neutral  .@samokazem_ Snagom argumenta, umesto argument...\n\n[20196 rows x 2 columns]",
      "text/html": "<div>\n<style scoped>\n    .dataframe tbody tr th:only-of-type {\n        vertical-align: middle;\n    }\n\n    .dataframe tbody tr th {\n        vertical-align: top;\n    }\n\n    .dataframe thead th {\n        text-align: right;\n    }\n</style>\n<table border=\"1\" class=\"dataframe\">\n  <thead>\n    <tr style=\"text-align: right;\">\n      <th></th>\n      <th>HandLabel</th>\n      <th>Text</th>\n    </tr>\n  </thead>\n  <tbody>\n    <tr>\n      <th>0</th>\n      <td>Neutral</td>\n      <td>@Jovanana koima sta da im dozvoli...budalastine</td>\n    </tr>\n    <tr>\n      <th>1</th>\n      <td>Negative</td>\n      <td>U ovom busu svi nešto kašlju</td>\n    </tr>\n    <tr>\n      <th>2</th>\n      <td>Positive</td>\n      <td>Zašto je važno da uvek imate bočicu vode sa so...</td>\n    </tr>\n    <tr>\n      <th>3</th>\n      <td>Positive</td>\n      <td>51. Međunarodni sajam nameštaja u Beogradu htt...</td>\n    </tr>\n    <tr>\n      <th>4</th>\n      <td>Positive</td>\n      <td>@pticica212 hvala Vama :)</td>\n    </tr>\n    <tr>\n      <th>...</th>\n      <td>...</td>\n      <td>...</td>\n    </tr>\n    <tr>\n      <th>891</th>\n      <td>Negative</td>\n      <td>Na koji konto u aktivi vlada Srbije stavlja po...</td>\n    </tr>\n    <tr>\n      <th>892</th>\n      <td>Negative</td>\n      <td>RT @DaliborStojicic: Jel ima neko iz EPS-a na ...</td>\n    </tr>\n    <tr>\n      <th>896</th>\n      <td>Negative</td>\n      <td>RT @SasaRadulovich: Na javnom servisu ide prvo...</td>\n    </tr>\n    <tr>\n      <th>897</th>\n      <td>Negative</td>\n      <td>imala sam neki trip da su mi roditelji čitali ...</td>\n    </tr>\n    <tr>\n      <th>898</th>\n      <td>Neutral</td>\n      <td>.@samokazem_ Snagom argumenta, umesto argument...</td>\n    </tr>\n  </tbody>\n</table>\n<p>20196 rows × 2 columns</p>\n</div>"
     },
     "metadata": {},
     "execution_count": 3
    }
   ],
   "source": [
    "unique_tweets=tweetsDF.drop_duplicates(subset=['TweetID'])\n",
    "unique_tweets=unique_tweets.drop(['TweetID','AnnotatorID'], axis=1)\n",
    "unique_tweets"
   ]
  },
  {
   "cell_type": "code",
   "execution_count": 4,
   "metadata": {},
   "outputs": [],
   "source": [
    "unique_tweets.to_excel(\"ExcelDocs\\\\SerbianTweetsDataSet.xlsx\")"
   ]
  },
  {
   "cell_type": "code",
   "execution_count": 5,
   "metadata": {},
   "outputs": [
    {
     "output_type": "execute_result",
     "data": {
      "text/plain": "           Text\n          count\nHandLabel      \nNegative   6528\nNeutral    8379\nPositive   5289",
      "text/html": "<div>\n<style scoped>\n    .dataframe tbody tr th:only-of-type {\n        vertical-align: middle;\n    }\n\n    .dataframe tbody tr th {\n        vertical-align: top;\n    }\n\n    .dataframe thead tr th {\n        text-align: left;\n    }\n\n    .dataframe thead tr:last-of-type th {\n        text-align: right;\n    }\n</style>\n<table border=\"1\" class=\"dataframe\">\n  <thead>\n    <tr>\n      <th></th>\n      <th>Text</th>\n    </tr>\n    <tr>\n      <th></th>\n      <th>count</th>\n    </tr>\n    <tr>\n      <th>HandLabel</th>\n      <th></th>\n    </tr>\n  </thead>\n  <tbody>\n    <tr>\n      <th>Negative</th>\n      <td>6528</td>\n    </tr>\n    <tr>\n      <th>Neutral</th>\n      <td>8379</td>\n    </tr>\n    <tr>\n      <th>Positive</th>\n      <td>5289</td>\n    </tr>\n  </tbody>\n</table>\n</div>"
     },
     "metadata": {},
     "execution_count": 5
    }
   ],
   "source": [
    "unique_tweets.groupby(['HandLabel']).agg(['count'])"
   ]
  },
  {
   "cell_type": "code",
   "execution_count": null,
   "metadata": {},
   "outputs": [],
   "source": []
  }
 ]
}