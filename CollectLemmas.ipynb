{
 "metadata": {
  "language_info": {
   "codemirror_mode": {
    "name": "ipython",
    "version": 3
   },
   "file_extension": ".py",
   "mimetype": "text/x-python",
   "name": "python",
   "nbconvert_exporter": "python",
   "pygments_lexer": "ipython3",
   "version": "3.8.1-final"
  },
  "orig_nbformat": 2,
  "kernelspec": {
   "name": "python_defaultSpec_1600868723141",
   "display_name": "Python 3.8.1 64-bit"
  }
 },
 "nbformat": 4,
 "nbformat_minor": 2,
 "cells": [
  {
   "cell_type": "code",
   "execution_count": 1,
   "metadata": {},
   "outputs": [],
   "source": [
    "import pandas as pandas\n",
    "import numpy as numpy\n",
    "from pathlib import Path\n",
    "from collections import Counter \n",
    "import string"
   ]
  },
  {
   "cell_type": "code",
   "execution_count": 2,
   "metadata": {
    "tags": []
   },
   "outputs": [],
   "source": [
    "tweetsDF=pandas.DataFrame()\n",
    "for i in range(0,101):\n",
    "    file = Path(\"LemmaNegation\\\\LemmaTweetsData\"+str(i)+\".pkl\")\n",
    "    if file.exists():\n",
    "        new_tweets=pandas.read_pickle(\"LemmaNegation\\\\LemmaTweetsData\"+str(i)+\".pkl\")\n",
    "        tweetsDF=pandas.concat([tweetsDF,new_tweets])\n",
    "tweetsDF.to_excel('LemmaDataSet.xlsx')"
   ]
  },
  {
   "cell_type": "code",
   "execution_count": 3,
   "metadata": {},
   "outputs": [],
   "source": [
    "tweetsDF= tweetsDF.drop('Text',axis=1)"
   ]
  },
  {
   "source": [
    "## Handle negation"
   ],
   "cell_type": "markdown",
   "metadata": {}
  },
  {
   "cell_type": "code",
   "execution_count": 4,
   "metadata": {},
   "outputs": [],
   "source": [
    "def handle_negation(text):\n",
    "    res=[]\n",
    "    punctuation=string.punctuation\n",
    "    neg_index=0\n",
    "    for token in text.split():\n",
    "        if token == 'NEG':\n",
    "            neg_index=3\n",
    "        elif token in punctuation:\n",
    "            neg_index=0\n",
    "            res.append(token)\n",
    "        elif(neg_index>0):\n",
    "            res.append('_'.join([token,'NEG']))\n",
    "            neg_index-=1\n",
    "        else:\n",
    "            res.append(token)\n",
    "    return ' '.join(res)\n"
   ]
  },
  {
   "cell_type": "code",
   "execution_count": 5,
   "metadata": {
    "tags": []
   },
   "outputs": [],
   "source": [
    "tweetsDF['FilteredText']=tweetsDF.apply(lambda row:handle_negation(row['FilteredText']),axis=1)"
   ]
  },
  {
   "cell_type": "code",
   "execution_count": 6,
   "metadata": {},
   "outputs": [],
   "source": [
    "positive_dataframe=tweetsDF.loc[tweetsDF['Label'] == 'Positive']\n",
    "negative_dataframe=tweetsDF.loc[tweetsDF['Label'] == 'Negative']\n",
    "neutral_dataframe=tweetsDF.loc[tweetsDF['Label'] == 'Neutral']"
   ]
  },
  {
   "cell_type": "code",
   "execution_count": 7,
   "metadata": {
    "tags": []
   },
   "outputs": [],
   "source": [
    "positive_counter=Counter(\" \".join(positive_dataframe[\"FilteredText\"]).split())\n",
    "negative_counter=Counter(\" \".join(negative_dataframe[\"FilteredText\"]).split())\n",
    "neutral_counter=Counter(\" \".join(neutral_dataframe[\"FilteredText\"]).split())\n",
    "total_counter=Counter(\" \".join(tweetsDF['FilteredText']).split())"
   ]
  },
  {
   "cell_type": "code",
   "execution_count": 8,
   "metadata": {},
   "outputs": [],
   "source": [
    "words_summary_dataframe=pandas.DataFrame.from_dict(total_counter,orient='index', columns=['total_count'])"
   ]
  },
  {
   "cell_type": "code",
   "execution_count": 9,
   "metadata": {},
   "outputs": [],
   "source": [
    "def find_word_count(dictionary,key):\n",
    "    return dictionary[key]"
   ]
  },
  {
   "cell_type": "code",
   "execution_count": 10,
   "metadata": {},
   "outputs": [],
   "source": [
    "words_summary_dataframe['positive_count']=words_summary_dataframe.apply(lambda row:find_word_count(positive_counter,row.name),axis=1)\n",
    "words_summary_dataframe['negative_count']=words_summary_dataframe.apply(lambda row:find_word_count(negative_counter,row.name),axis=1)\n",
    "words_summary_dataframe['neutral_count']=words_summary_dataframe.apply(lambda row:find_word_count(neutral_counter,row.name),axis=1)"
   ]
  },
  {
   "cell_type": "code",
   "execution_count": 11,
   "metadata": {},
   "outputs": [],
   "source": [
    "def find_relative_word_count(dictionary,key):\n",
    "    total_num_of_words_in_dictionary=sum(dictionary.values())\n",
    "    return dictionary[key]*100/total_num_of_words_in_dictionary"
   ]
  },
  {
   "cell_type": "code",
   "execution_count": 12,
   "metadata": {},
   "outputs": [],
   "source": [
    "words_summary_dataframe['rel_positive_count']=words_summary_dataframe.apply(lambda row:find_relative_word_count(positive_counter,row.name),axis=1)\n",
    "words_summary_dataframe['rel_negative_count']=words_summary_dataframe.apply(lambda row:find_relative_word_count(negative_counter,row.name),axis=1)\n",
    "words_summary_dataframe['rel_neutral_count']=words_summary_dataframe.apply(lambda row:find_relative_word_count(neutral_counter,row.name),axis=1)"
   ]
  },
  {
   "cell_type": "code",
   "execution_count": 44,
   "metadata": {},
   "outputs": [],
   "source": [
    "def find_stop_words(margine, pos, neg, neut):\n",
    "    avg=(pos+neg+neut)/3\n",
    "    top=(1+margine)*avg\n",
    "    bottom=(1-margine)*avg\n",
    "    if (bottom<=pos<=top) and (bottom<=neg<=top) and (bottom<=neut<=top):\n",
    "        return True\n",
    "    return False"
   ]
  },
  {
   "cell_type": "code",
   "execution_count": 56,
   "metadata": {},
   "outputs": [],
   "source": [
    "words_summary_dataframe['stop_words']=words_summary_dataframe.apply(lambda row:find_stop_words(0.25,row['rel_positive_count'],row['rel_negative_count'],row['rel_neutral_count']), axis=1)"
   ]
  },
  {
   "cell_type": "code",
   "execution_count": 57,
   "metadata": {},
   "outputs": [],
   "source": [
    "stop_words_df=words_summary_dataframe.loc[words_summary_dataframe['stop_words']].sort_values(by='rel_positive_count',ascending=False)"
   ]
  },
  {
   "cell_type": "code",
   "execution_count": 58,
   "metadata": {},
   "outputs": [
    {
     "output_type": "execute_result",
     "data": {
      "text/plain": "               total_count  positive_count  negative_count  neutral_count  \\\nbiti                 13805            2868            5314           5623   \n.                    13959            2827            5267           5865   \n,                    11554            2327            4512           4715   \nda                    9882            1767            3872           4243   \ni                     6481            1435            2453           2593   \n...                    ...             ...             ...            ...   \nkrzno                    5               1               2              2   \nblogomanija              6               1               2              3   \nočigledan                5               1               2              2   \nbiologija                5               1               2              2   \ndopustiti_NEG            5               1               2              2   \n\n               rel_positive_count  rel_negative_count  rel_neutral_count  \\\nbiti                     4.990256            4.795639           4.712459   \n.                        4.918917            4.753224           4.915271   \n,                        4.048928            4.071871           3.951493   \nda                       3.074541            3.494301           3.555924   \ni                        2.496868            2.213719           2.173111   \n...                           ...                 ...                ...   \nkrzno                    0.001740            0.001805           0.001676   \nblogomanija              0.001740            0.001805           0.002514   \nočigledan                0.001740            0.001805           0.001676   \nbiologija                0.001740            0.001805           0.001676   \ndopustiti_NEG            0.001740            0.001805           0.001676   \n\n               stop_words  infrequent_words  positive_words  negative_words  \nbiti                 True             False           False           False  \n.                    True             False           False           False  \n,                    True             False           False           False  \nda                   True             False           False           False  \ni                    True             False           False           False  \n...                   ...               ...             ...             ...  \nkrzno                True             False           False           False  \nblogomanija          True             False           False           False  \nočigledan            True             False           False           False  \nbiologija            True             False           False           False  \ndopustiti_NEG        True             False           False           False  \n\n[737 rows x 11 columns]",
      "text/html": "<div>\n<style scoped>\n    .dataframe tbody tr th:only-of-type {\n        vertical-align: middle;\n    }\n\n    .dataframe tbody tr th {\n        vertical-align: top;\n    }\n\n    .dataframe thead th {\n        text-align: right;\n    }\n</style>\n<table border=\"1\" class=\"dataframe\">\n  <thead>\n    <tr style=\"text-align: right;\">\n      <th></th>\n      <th>total_count</th>\n      <th>positive_count</th>\n      <th>negative_count</th>\n      <th>neutral_count</th>\n      <th>rel_positive_count</th>\n      <th>rel_negative_count</th>\n      <th>rel_neutral_count</th>\n      <th>stop_words</th>\n      <th>infrequent_words</th>\n      <th>positive_words</th>\n      <th>negative_words</th>\n    </tr>\n  </thead>\n  <tbody>\n    <tr>\n      <th>biti</th>\n      <td>13805</td>\n      <td>2868</td>\n      <td>5314</td>\n      <td>5623</td>\n      <td>4.990256</td>\n      <td>4.795639</td>\n      <td>4.712459</td>\n      <td>True</td>\n      <td>False</td>\n      <td>False</td>\n      <td>False</td>\n    </tr>\n    <tr>\n      <th>.</th>\n      <td>13959</td>\n      <td>2827</td>\n      <td>5267</td>\n      <td>5865</td>\n      <td>4.918917</td>\n      <td>4.753224</td>\n      <td>4.915271</td>\n      <td>True</td>\n      <td>False</td>\n      <td>False</td>\n      <td>False</td>\n    </tr>\n    <tr>\n      <th>,</th>\n      <td>11554</td>\n      <td>2327</td>\n      <td>4512</td>\n      <td>4715</td>\n      <td>4.048928</td>\n      <td>4.071871</td>\n      <td>3.951493</td>\n      <td>True</td>\n      <td>False</td>\n      <td>False</td>\n      <td>False</td>\n    </tr>\n    <tr>\n      <th>da</th>\n      <td>9882</td>\n      <td>1767</td>\n      <td>3872</td>\n      <td>4243</td>\n      <td>3.074541</td>\n      <td>3.494301</td>\n      <td>3.555924</td>\n      <td>True</td>\n      <td>False</td>\n      <td>False</td>\n      <td>False</td>\n    </tr>\n    <tr>\n      <th>i</th>\n      <td>6481</td>\n      <td>1435</td>\n      <td>2453</td>\n      <td>2593</td>\n      <td>2.496868</td>\n      <td>2.213719</td>\n      <td>2.173111</td>\n      <td>True</td>\n      <td>False</td>\n      <td>False</td>\n      <td>False</td>\n    </tr>\n    <tr>\n      <th>...</th>\n      <td>...</td>\n      <td>...</td>\n      <td>...</td>\n      <td>...</td>\n      <td>...</td>\n      <td>...</td>\n      <td>...</td>\n      <td>...</td>\n      <td>...</td>\n      <td>...</td>\n      <td>...</td>\n    </tr>\n    <tr>\n      <th>krzno</th>\n      <td>5</td>\n      <td>1</td>\n      <td>2</td>\n      <td>2</td>\n      <td>0.001740</td>\n      <td>0.001805</td>\n      <td>0.001676</td>\n      <td>True</td>\n      <td>False</td>\n      <td>False</td>\n      <td>False</td>\n    </tr>\n    <tr>\n      <th>blogomanija</th>\n      <td>6</td>\n      <td>1</td>\n      <td>2</td>\n      <td>3</td>\n      <td>0.001740</td>\n      <td>0.001805</td>\n      <td>0.002514</td>\n      <td>True</td>\n      <td>False</td>\n      <td>False</td>\n      <td>False</td>\n    </tr>\n    <tr>\n      <th>očigledan</th>\n      <td>5</td>\n      <td>1</td>\n      <td>2</td>\n      <td>2</td>\n      <td>0.001740</td>\n      <td>0.001805</td>\n      <td>0.001676</td>\n      <td>True</td>\n      <td>False</td>\n      <td>False</td>\n      <td>False</td>\n    </tr>\n    <tr>\n      <th>biologija</th>\n      <td>5</td>\n      <td>1</td>\n      <td>2</td>\n      <td>2</td>\n      <td>0.001740</td>\n      <td>0.001805</td>\n      <td>0.001676</td>\n      <td>True</td>\n      <td>False</td>\n      <td>False</td>\n      <td>False</td>\n    </tr>\n    <tr>\n      <th>dopustiti_NEG</th>\n      <td>5</td>\n      <td>1</td>\n      <td>2</td>\n      <td>2</td>\n      <td>0.001740</td>\n      <td>0.001805</td>\n      <td>0.001676</td>\n      <td>True</td>\n      <td>False</td>\n      <td>False</td>\n      <td>False</td>\n    </tr>\n  </tbody>\n</table>\n<p>737 rows × 11 columns</p>\n</div>"
     },
     "metadata": {},
     "execution_count": 58
    }
   ],
   "source": [
    "stop_words_df"
   ]
  },
  {
   "cell_type": "code",
   "execution_count": 59,
   "metadata": {},
   "outputs": [],
   "source": [
    "def find_infrequent_words(pos,neg,neut):\n",
    "    sum=pos+neg+neut\n",
    "    if((sum<4)and(pos*neg*neut>0)) or (sum<3):\n",
    "        return True\n",
    "    return False"
   ]
  },
  {
   "cell_type": "code",
   "execution_count": 60,
   "metadata": {},
   "outputs": [],
   "source": [
    "words_summary_dataframe['infrequent_words']=words_summary_dataframe.apply(lambda row:find_infrequent_words(row['positive_count'],row['negative_count'],row['neutral_count']), axis=1)"
   ]
  },
  {
   "cell_type": "code",
   "execution_count": 61,
   "metadata": {},
   "outputs": [],
   "source": [
    "infrequent_words_df=words_summary_dataframe.loc[words_summary_dataframe['infrequent_words']].sort_values(by='total_count',ascending=False)"
   ]
  },
  {
   "cell_type": "code",
   "execution_count": 62,
   "metadata": {},
   "outputs": [
    {
     "output_type": "execute_result",
     "data": {
      "text/plain": "              total_count  positive_count  negative_count  neutral_count  \\\nwannabe                 3               1               1              1   \nmaloletnički            3               1               1              1   \ncimet                   3               1               1              1   \nodspavati               3               1               1              1   \nsarin                   3               1               1              1   \n...                   ...             ...             ...            ...   \nprepis                  1               0               0              1   \nbrzo_NEG                1               0               0              1   \nizguliti                1               0               1              0   \nKljajić                 1               0               0              1   \nKoks                    1               1               0              0   \n\n              rel_positive_count  rel_negative_count  rel_neutral_count  \\\nwannabe                  0.00174            0.000902           0.000838   \nmaloletnički             0.00174            0.000902           0.000838   \ncimet                    0.00174            0.000902           0.000838   \nodspavati                0.00174            0.000902           0.000838   \nsarin                    0.00174            0.000902           0.000838   \n...                          ...                 ...                ...   \nprepis                   0.00000            0.000000           0.000838   \nbrzo_NEG                 0.00000            0.000000           0.000838   \nizguliti                 0.00000            0.000902           0.000000   \nKljajić                  0.00000            0.000000           0.000838   \nKoks                     0.00174            0.000000           0.000000   \n\n              stop_words  infrequent_words  positive_words  negative_words  \nwannabe            False              True           False           False  \nmaloletnički       False              True           False           False  \ncimet              False              True           False           False  \nodspavati          False              True           False           False  \nsarin              False              True           False           False  \n...                  ...               ...             ...             ...  \nprepis             False              True           False           False  \nbrzo_NEG           False              True           False           False  \nizguliti           False              True           False            True  \nKljajić            False              True           False           False  \nKoks               False              True            True           False  \n\n[17109 rows x 11 columns]",
      "text/html": "<div>\n<style scoped>\n    .dataframe tbody tr th:only-of-type {\n        vertical-align: middle;\n    }\n\n    .dataframe tbody tr th {\n        vertical-align: top;\n    }\n\n    .dataframe thead th {\n        text-align: right;\n    }\n</style>\n<table border=\"1\" class=\"dataframe\">\n  <thead>\n    <tr style=\"text-align: right;\">\n      <th></th>\n      <th>total_count</th>\n      <th>positive_count</th>\n      <th>negative_count</th>\n      <th>neutral_count</th>\n      <th>rel_positive_count</th>\n      <th>rel_negative_count</th>\n      <th>rel_neutral_count</th>\n      <th>stop_words</th>\n      <th>infrequent_words</th>\n      <th>positive_words</th>\n      <th>negative_words</th>\n    </tr>\n  </thead>\n  <tbody>\n    <tr>\n      <th>wannabe</th>\n      <td>3</td>\n      <td>1</td>\n      <td>1</td>\n      <td>1</td>\n      <td>0.00174</td>\n      <td>0.000902</td>\n      <td>0.000838</td>\n      <td>False</td>\n      <td>True</td>\n      <td>False</td>\n      <td>False</td>\n    </tr>\n    <tr>\n      <th>maloletnički</th>\n      <td>3</td>\n      <td>1</td>\n      <td>1</td>\n      <td>1</td>\n      <td>0.00174</td>\n      <td>0.000902</td>\n      <td>0.000838</td>\n      <td>False</td>\n      <td>True</td>\n      <td>False</td>\n      <td>False</td>\n    </tr>\n    <tr>\n      <th>cimet</th>\n      <td>3</td>\n      <td>1</td>\n      <td>1</td>\n      <td>1</td>\n      <td>0.00174</td>\n      <td>0.000902</td>\n      <td>0.000838</td>\n      <td>False</td>\n      <td>True</td>\n      <td>False</td>\n      <td>False</td>\n    </tr>\n    <tr>\n      <th>odspavati</th>\n      <td>3</td>\n      <td>1</td>\n      <td>1</td>\n      <td>1</td>\n      <td>0.00174</td>\n      <td>0.000902</td>\n      <td>0.000838</td>\n      <td>False</td>\n      <td>True</td>\n      <td>False</td>\n      <td>False</td>\n    </tr>\n    <tr>\n      <th>sarin</th>\n      <td>3</td>\n      <td>1</td>\n      <td>1</td>\n      <td>1</td>\n      <td>0.00174</td>\n      <td>0.000902</td>\n      <td>0.000838</td>\n      <td>False</td>\n      <td>True</td>\n      <td>False</td>\n      <td>False</td>\n    </tr>\n    <tr>\n      <th>...</th>\n      <td>...</td>\n      <td>...</td>\n      <td>...</td>\n      <td>...</td>\n      <td>...</td>\n      <td>...</td>\n      <td>...</td>\n      <td>...</td>\n      <td>...</td>\n      <td>...</td>\n      <td>...</td>\n    </tr>\n    <tr>\n      <th>prepis</th>\n      <td>1</td>\n      <td>0</td>\n      <td>0</td>\n      <td>1</td>\n      <td>0.00000</td>\n      <td>0.000000</td>\n      <td>0.000838</td>\n      <td>False</td>\n      <td>True</td>\n      <td>False</td>\n      <td>False</td>\n    </tr>\n    <tr>\n      <th>brzo_NEG</th>\n      <td>1</td>\n      <td>0</td>\n      <td>0</td>\n      <td>1</td>\n      <td>0.00000</td>\n      <td>0.000000</td>\n      <td>0.000838</td>\n      <td>False</td>\n      <td>True</td>\n      <td>False</td>\n      <td>False</td>\n    </tr>\n    <tr>\n      <th>izguliti</th>\n      <td>1</td>\n      <td>0</td>\n      <td>1</td>\n      <td>0</td>\n      <td>0.00000</td>\n      <td>0.000902</td>\n      <td>0.000000</td>\n      <td>False</td>\n      <td>True</td>\n      <td>False</td>\n      <td>True</td>\n    </tr>\n    <tr>\n      <th>Kljajić</th>\n      <td>1</td>\n      <td>0</td>\n      <td>0</td>\n      <td>1</td>\n      <td>0.00000</td>\n      <td>0.000000</td>\n      <td>0.000838</td>\n      <td>False</td>\n      <td>True</td>\n      <td>False</td>\n      <td>False</td>\n    </tr>\n    <tr>\n      <th>Koks</th>\n      <td>1</td>\n      <td>1</td>\n      <td>0</td>\n      <td>0</td>\n      <td>0.00174</td>\n      <td>0.000000</td>\n      <td>0.000000</td>\n      <td>False</td>\n      <td>True</td>\n      <td>True</td>\n      <td>False</td>\n    </tr>\n  </tbody>\n</table>\n<p>17109 rows × 11 columns</p>\n</div>"
     },
     "metadata": {},
     "execution_count": 62
    }
   ],
   "source": [
    "infrequent_words_df"
   ]
  },
  {
   "cell_type": "code",
   "execution_count": 63,
   "metadata": {},
   "outputs": [],
   "source": [
    "drop_words_array=words_summary_dataframe.loc[words_summary_dataframe['infrequent_words']|words_summary_dataframe['stop_words']].index.values.tolist()"
   ]
  },
  {
   "cell_type": "code",
   "execution_count": 64,
   "metadata": {},
   "outputs": [],
   "source": [
    "with open('DropWords.txt', 'w+', encoding='utf8') as f:\n",
    "    for item in drop_words_array:\n",
    "        f.write(\"%s\\n\" % item)"
   ]
  },
  {
   "cell_type": "code",
   "execution_count": 65,
   "metadata": {},
   "outputs": [],
   "source": [
    "def remove_stop_words(stop_array,text):\n",
    "    res=[]\n",
    "    text_array=text.split()\n",
    "    for word in text_array:\n",
    "        if word not in stop_array:\n",
    "            res.append(word)\n",
    "    return ' '.join(res)"
   ]
  },
  {
   "cell_type": "code",
   "execution_count": 66,
   "metadata": {},
   "outputs": [
    {
     "output_type": "execute_result",
     "data": {
      "text/plain": "        Label                                       FilteredText  \\\n1    Negative                      u ovaj bus sav nešto kašljati   \n16   Negative  oskrnaviti katedrala pozirati gol ispred dubro...   \n22   Negative  u počinjati sa učenje , tko ja biti zvati , sl...   \n40   Negative  glavni problem Srbija biti taj što svaki bolid...   \n45   Negative               pucati sebe u glava . elektrotehnika   \n..        ...                                                ...   \n817   Neutral                               posetiti kuća čaj sa   \n843  Positive  hello ! Kortna Koks bivši supruga željeti sav ...   \n852  Positive  biti Vip student ! _emo_happy_face_or_smiley r...   \n874  Negative  min. nakon skidanje vest gde objašnjavati svoj...   \n884   Neutral  od kada postojati zakon protiv organizovan kri...   \n\n                                            without_sw  \n1                                                       \n16                                      pozirati gol !  \n22   počinjati učenje zvati slati poruka ili bilo s...  \n40              problem Srbija dobijati medijski genij  \n45                                        pucati glava  \n..                                                 ...  \n817                                       posetiti čaj  \n843                hello ! bivši supruga željeti dobar  \n852  Vip ! _emo_happy_face_or_smiley rok prijava le...  \n874  min. skidanje vest gde objašnjavati ostavka iz...  \n884  postojati zakon organizovan kriminal oduzeti p...  \n\n[20194 rows x 3 columns]",
      "text/html": "<div>\n<style scoped>\n    .dataframe tbody tr th:only-of-type {\n        vertical-align: middle;\n    }\n\n    .dataframe tbody tr th {\n        vertical-align: top;\n    }\n\n    .dataframe thead th {\n        text-align: right;\n    }\n</style>\n<table border=\"1\" class=\"dataframe\">\n  <thead>\n    <tr style=\"text-align: right;\">\n      <th></th>\n      <th>Label</th>\n      <th>FilteredText</th>\n      <th>without_sw</th>\n    </tr>\n  </thead>\n  <tbody>\n    <tr>\n      <th>1</th>\n      <td>Negative</td>\n      <td>u ovaj bus sav nešto kašljati</td>\n      <td></td>\n    </tr>\n    <tr>\n      <th>16</th>\n      <td>Negative</td>\n      <td>oskrnaviti katedrala pozirati gol ispred dubro...</td>\n      <td>pozirati gol !</td>\n    </tr>\n    <tr>\n      <th>22</th>\n      <td>Negative</td>\n      <td>u počinjati sa učenje , tko ja biti zvati , sl...</td>\n      <td>počinjati učenje zvati slati poruka ili bilo s...</td>\n    </tr>\n    <tr>\n      <th>40</th>\n      <td>Negative</td>\n      <td>glavni problem Srbija biti taj što svaki bolid...</td>\n      <td>problem Srbija dobijati medijski genij</td>\n    </tr>\n    <tr>\n      <th>45</th>\n      <td>Negative</td>\n      <td>pucati sebe u glava . elektrotehnika</td>\n      <td>pucati glava</td>\n    </tr>\n    <tr>\n      <th>...</th>\n      <td>...</td>\n      <td>...</td>\n      <td>...</td>\n    </tr>\n    <tr>\n      <th>817</th>\n      <td>Neutral</td>\n      <td>posetiti kuća čaj sa</td>\n      <td>posetiti čaj</td>\n    </tr>\n    <tr>\n      <th>843</th>\n      <td>Positive</td>\n      <td>hello ! Kortna Koks bivši supruga željeti sav ...</td>\n      <td>hello ! bivši supruga željeti dobar</td>\n    </tr>\n    <tr>\n      <th>852</th>\n      <td>Positive</td>\n      <td>biti Vip student ! _emo_happy_face_or_smiley r...</td>\n      <td>Vip ! _emo_happy_face_or_smiley rok prijava le...</td>\n    </tr>\n    <tr>\n      <th>874</th>\n      <td>Negative</td>\n      <td>min. nakon skidanje vest gde objašnjavati svoj...</td>\n      <td>min. skidanje vest gde objašnjavati ostavka iz...</td>\n    </tr>\n    <tr>\n      <th>884</th>\n      <td>Neutral</td>\n      <td>od kada postojati zakon protiv organizovan kri...</td>\n      <td>postojati zakon organizovan kriminal oduzeti p...</td>\n    </tr>\n  </tbody>\n</table>\n<p>20194 rows × 3 columns</p>\n</div>"
     },
     "metadata": {},
     "execution_count": 66
    }
   ],
   "source": [
    "tweetsDF['without_sw']=tweetsDF.apply(lambda row:remove_stop_words(drop_words_array,row['FilteredText']),axis=1)\n",
    "tweetsDF"
   ]
  },
  {
   "cell_type": "code",
   "execution_count": 67,
   "metadata": {},
   "outputs": [],
   "source": [
    "tweetsDF.to_pickle('TweetsWithoutSW.pkl')"
   ]
  },
  {
   "cell_type": "code",
   "execution_count": 68,
   "metadata": {},
   "outputs": [],
   "source": [
    "def positive_words(margine,pos,neut,neg):\n",
    "    top=margine*pos\n",
    "    if(neg<=top) and (neut<top):\n",
    "        return True\n",
    "    return False"
   ]
  },
  {
   "cell_type": "code",
   "execution_count": 69,
   "metadata": {},
   "outputs": [],
   "source": [
    "def negative_words(margine,pos,neut,neg):\n",
    "    top=margine*neg\n",
    "    if (pos<=top) and (neut<top):\n",
    "        return True\n",
    "    return False"
   ]
  },
  {
   "cell_type": "code",
   "execution_count": 70,
   "metadata": {},
   "outputs": [],
   "source": [
    "words_summary_dataframe['positive_words']=words_summary_dataframe.apply(lambda row:positive_words(0.5,row['rel_positive_count'],row['rel_neutral_count'],row['rel_negative_count']), axis=1)\n",
    "\n",
    "words_summary_dataframe['negative_words']=words_summary_dataframe.apply(lambda row:negative_words(0.5,row['rel_positive_count'],row['rel_neutral_count'],row['rel_negative_count']), axis=1)"
   ]
  },
  {
   "cell_type": "code",
   "execution_count": 74,
   "metadata": {},
   "outputs": [],
   "source": [
    "positive_array=(words_summary_dataframe.loc[(words_summary_dataframe['total_count']>3) & (words_summary_dataframe['positive_words'])]).index.values.tolist()\n",
    "negative_array=(words_summary_dataframe.loc[(words_summary_dataframe['total_count']>3) & (words_summary_dataframe['negative_words'])]).index.values.tolist()"
   ]
  },
  {
   "cell_type": "code",
   "execution_count": 75,
   "metadata": {
    "tags": []
   },
   "outputs": [],
   "source": [
    "with open('PositiveWordsFromDataset.txt', 'w+', encoding='utf8') as f:\n",
    "    for item in positive_array:\n",
    "        f.write(\"%s\\n\" % item)"
   ]
  },
  {
   "cell_type": "code",
   "execution_count": 76,
   "metadata": {},
   "outputs": [],
   "source": [
    "with open('NegativeWordsFromDataset.txt', 'w+', encoding='utf8') as f:\n",
    "    for item in negative_array:\n",
    "        f.write(\"%s\\n\" % item)"
   ]
  },
  {
   "cell_type": "code",
   "execution_count": null,
   "metadata": {},
   "outputs": [],
   "source": []
  }
 ]
}